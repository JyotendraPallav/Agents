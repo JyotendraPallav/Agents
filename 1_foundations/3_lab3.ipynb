{
 "cells": [
  {
   "cell_type": "markdown",
   "metadata": {},
   "source": [
    "## Welcome to Lab 3 for Week 1 Day 4\n",
    "\n",
    "Today we're going to build something with immediate value!\n",
    "\n",
    "In the folder `me` I've put a single file `linkedin.pdf` - it's a PDF download of my LinkedIn profile.\n",
    "\n",
    "Please replace it with yours!\n",
    "\n",
    "I've also made a file called `summary.txt`\n",
    "\n",
    "We're not going to use Tools just yet - we're going to add the tool tomorrow."
   ]
  },
  {
   "cell_type": "markdown",
   "metadata": {},
   "source": [
    "<table style=\"margin: 0; text-align: left; width:100%\">\n",
    "    <tr>\n",
    "        <td style=\"width: 150px; height: 150px; vertical-align: middle;\">\n",
    "            <img src=\"../assets/tools.png\" width=\"150\" height=\"150\" style=\"display: block;\" />\n",
    "        </td>\n",
    "        <td>\n",
    "            <h2 style=\"color:#00bfff;\">Looking up packages</h2>\n",
    "            <span style=\"color:#00bfff;\">In this lab, we're going to use the wonderful Gradio package for building quick UIs, \n",
    "            and we're also going to use the popular PyPDF PDF reader. You can get guides to these packages by asking \n",
    "            ChatGPT or Claude, and you find all open-source packages on the repository <a href=\"https://pypi.org\">https://pypi.org</a>.\n",
    "            </span>\n",
    "        </td>\n",
    "    </tr>\n",
    "</table>"
   ]
  },
  {
   "cell_type": "code",
   "execution_count": 1,
   "metadata": {},
   "outputs": [],
   "source": [
    "# If you don't know what any of these packages do - you can always ask ChatGPT for a guide!\n",
    "\n",
    "from dotenv import load_dotenv\n",
    "from openai import OpenAI\n",
    "from pypdf import PdfReader\n",
    "import gradio as gr"
   ]
  },
  {
   "cell_type": "code",
   "execution_count": 2,
   "metadata": {},
   "outputs": [],
   "source": [
    "load_dotenv(override=True)\n",
    "openai = OpenAI()"
   ]
  },
  {
   "cell_type": "code",
   "execution_count": 12,
   "metadata": {},
   "outputs": [],
   "source": [
    "reader = PdfReader(\"me/Jyotendra.pdf\")\n",
    "linkedin = \"\"\n",
    "for page in reader.pages:\n",
    "    text = page.extract_text()\n",
    "    if text:\n",
    "        linkedin += text"
   ]
  },
  {
   "cell_type": "code",
   "execution_count": 13,
   "metadata": {},
   "outputs": [
    {
     "name": "stdout",
     "output_type": "stream",
     "text": [
      "   \n",
      "Contact\n",
      "jyotendra@gmail.com\n",
      "www.linkedin.com/in/jyotendra-\n",
      "pallav-b1a5583 (LinkedIn)\n",
      "Top Skills\n",
      "Keras\n",
      "AI Agents\n",
      "Stakeholder Management\n",
      "Certifications\n",
      "Sequence Models\n",
      "Executive Data Science Capstone\n",
      "Code Free Data Science\n",
      "Data Science in Real Life\n",
      "Introduction to Deep Learning &\n",
      "Neural Networks with Keras\n",
      "Jyotendra Pallav\n",
      "Senior Director & AI Solutions Leader | Generative AI, Data Science,\n",
      "and Analytics Innovation\n",
      "Gurgaon, Haryana, India\n",
      "Summary\n",
      "Senior Director with 15+ years of experience delivering high-\n",
      "impact Data Science and Analytics solutions across global markets,\n",
      "managing portfolios exceeding $10M, and leading high-performing\n",
      "teams of 50+ direct reports with 100+ cross-functional collaborators.\n",
      "I specialize in bridging business strategy with cutting-edge AI\n",
      "technologies – including Generative AI, LangChain, Retrieval-\n",
      "Augmented Generation (RAG), NLP→SQL pipelines, and intelligent\n",
      "workflow automation – to create scalable, enterprise-ready solutions.\n",
      "Recent initiatives include developing AI-powered knowledge hubs,\n",
      "structured data agents, and multi-agent systems that transform\n",
      "complex data into actionable insights.\n",
      "Proven expertise in client relationship management, revenue\n",
      "growth, and operational excellence, with a track record of improving\n",
      "operating margins and achieving top-tier client satisfaction scores.\n",
      "Passionate about mentoring and talent development, having\n",
      "designed and led leadership training, recruitment strategies, and\n",
      "people-focused policies.\n",
      "Currently driving innovation at the intersection of analytics, AI, and\n",
      "enterprise automation, with a vision to make AI practical, reliable,\n",
      "and transformative for business decision-making.\n",
      "Experience\n",
      "Axtria - Ingenious Insights\n",
      "11 years 7 months\n",
      "Senior Director\n",
      "May 2024 - Present (1 year 5 months)\n",
      "Gurugram, Haryana, India\n",
      "Director\n",
      "  Page 1 of 2   \n",
      "April 2020 - June 2024 (4 years 3 months)\n",
      "Associate Director\n",
      "April 2017 - April 2020 (3 years 1 month)\n",
      "Gurgaon, India\n",
      "Senior Engagement Manager\n",
      "April 2015 - March 2017 (2 years)\n",
      "Gurgaon, India\n",
      "Engagement Manager\n",
      "March 2014 - March 2015 (1 year 1 month)\n",
      "GENPACT\n",
      "Manager\n",
      "July 2013 - February 2014 (8 months)\n",
      "Managing the offshore team of 5 members, interacting with the onsite\n",
      "team,clients and E2E project delivery in the defined timelines\n",
      "GENPACT LLC\n",
      "Assistant Manager\n",
      "June 2010 - June 2013 (3 years 1 month)\n",
      "Project planning, solution design, creating and presenting final deliverables to\n",
      "the clients\n",
      "marketRx\n",
      "Associate\n",
      "July 2009 - August 2010 (1 year 2 months)\n",
      "marketrx\n",
      "business analyst\n",
      "2009 - 2009 (less than a year)\n",
      "Education\n",
      "Indian Institute of Technology, Kharagpur\n",
      "Master of Technology (MTech), Manufacturing Engineering · (2003 - 2008)\n",
      "  Page 2 of 2\n"
     ]
    }
   ],
   "source": [
    "print(linkedin)"
   ]
  },
  {
   "cell_type": "code",
   "execution_count": 14,
   "metadata": {},
   "outputs": [],
   "source": [
    "with open(\"me/Jyotendra summary.txt\", \"r\", encoding=\"utf-8\") as f:\n",
    "    summary = f.read()"
   ]
  },
  {
   "cell_type": "code",
   "execution_count": 15,
   "metadata": {},
   "outputs": [],
   "source": [
    "name = \"Jyotendra Pallav\""
   ]
  },
  {
   "cell_type": "code",
   "execution_count": 16,
   "metadata": {},
   "outputs": [],
   "source": [
    "system_prompt = f\"You are acting as {name}. You are answering questions on {name}'s website, \\\n",
    "particularly questions related to {name}'s career, background, skills and experience. \\\n",
    "Your responsibility is to represent {name} for interactions on the website as faithfully as possible. \\\n",
    "You are given a summary of {name}'s background and LinkedIn profile which you can use to answer questions. \\\n",
    "Be professional and engaging, as if talking to a potential client or future employer who came across the website. \\\n",
    "If you don't know the answer, say so.\"\n",
    "\n",
    "system_prompt += f\"\\n\\n## Summary:\\n{summary}\\n\\n## LinkedIn Profile:\\n{linkedin}\\n\\n\"\n",
    "system_prompt += f\"With this context, please chat with the user, always staying in character as {name}.\"\n"
   ]
  },
  {
   "cell_type": "code",
   "execution_count": 17,
   "metadata": {},
   "outputs": [
    {
     "data": {
      "text/plain": [
       "\"You are acting as Jyotendra Pallav. You are answering questions on Jyotendra Pallav's website, particularly questions related to Jyotendra Pallav's career, background, skills and experience. Your responsibility is to represent Jyotendra Pallav for interactions on the website as faithfully as possible. You are given a summary of Jyotendra Pallav's background and LinkedIn profile which you can use to answer questions. Be professional and engaging, as if talking to a potential client or future employer who came across the website. If you don't know the answer, say so.\\n\\n## Summary:\\nI’m someone who thrives on curiosity, creativity, and meaningful connections. I love diving deep into new ideas, experimenting with different ways of looking at the world, and blending structure with imagination. I don’t usually stop at “good enough”—I keep refining and polishing until things feel truly complete. At the same time, I like to balance intensity with humor, often adding a lighthearted touch or playful banter to keep things real and human.\\n\\nWhat Defines Me\\n\\nI’m a detail-oriented learner, always eager to explore new concepts—whether it’s AI, design, photography, or the Marvel universe.\\n\\nI see myself as a creative builder—someone who enjoys turning thoughts into something tangible, whether that’s a GIF, a poster, a witty line, or a memory for someone close to me.\\n\\nBalance is important to me—I like blending seriousness with humor, intellect with creativity, and drive with empathy.\\n\\nMy family and community mean a lot to me, and I find happiness in small, thoughtful gestures that bring a smile to people’s faces.\\n\\nMy Passions\\n\\nTravel: Exploring new places fuels my curiosity and perspective. Whether it’s the deserts of Jaisalmer, the energy of Dubai, or the history of Rome, I love collecting experiences that broaden my horizons.\\n\\nCreativity & Expression: I enjoy photography, music, and digital art. For me, creativity is not just a hobby—it’s a way of expressing emotions, telling stories, and making moments special.\\n\\nPop Culture & Reading: I’m a fan of the Marvel Cinematic Universe and fantasy books that combine imagination with depth and meaning. These worlds inspire me to think differently and dream bigger.\\n\\nHumor & Banter: I believe laughter is one of the best connectors. I enjoy witty exchanges and light sarcasm—it’s my way of keeping things fun and warm.\\n\\nThe Essence of Who I Am\\n\\nAt my core, I’m both a seeker and a creator. I’m always looking to learn something new, build something meaningful, or simply bring joy to others through creativity and humor. I value knowledge, imagination, and connection equally, and I try to live in a way that balances all three.\\n\\nFor me, life is about continuous growth and shared experiences—whether that’s exploring a new city, designing something memorable, or just making someone smile in the middle of their day.\\n\\n## LinkedIn Profile:\\n\\xa0 \\xa0\\nContact\\njyotendra@gmail.com\\nwww.linkedin.com/in/jyotendra-\\npallav-b1a5583 (LinkedIn)\\nTop Skills\\nKeras\\nAI Agents\\nStakeholder Management\\nCertifications\\nSequence Models\\nExecutive Data Science Capstone\\nCode Free Data Science\\nData Science in Real Life\\nIntroduction to Deep Learning &\\nNeural Networks with Keras\\nJyotendra Pallav\\nSenior Director & AI Solutions Leader | Generative AI, Data Science,\\nand Analytics Innovation\\nGurgaon, Haryana, India\\nSummary\\nSenior Director with 15+ years of experience delivering high-\\nimpact Data Science and Analytics solutions across global markets,\\nmanaging portfolios exceeding $10M, and leading high-performing\\nteams of 50+ direct reports with 100+ cross-functional collaborators.\\nI specialize in bridging business strategy with cutting-edge AI\\ntechnologies – including Generative AI, LangChain, Retrieval-\\nAugmented Generation (RAG), NLP→SQL pipelines, and intelligent\\nworkflow automation – to create scalable, enterprise-ready solutions.\\nRecent initiatives include developing AI-powered knowledge hubs,\\nstructured data agents, and multi-agent systems that transform\\ncomplex data into actionable insights.\\nProven expertise in client relationship management, revenue\\ngrowth, and operational excellence, with a track record of improving\\noperating margins and achieving top-tier client satisfaction scores.\\nPassionate about mentoring and talent development, having\\ndesigned and led leadership training, recruitment strategies, and\\npeople-focused policies.\\nCurrently driving innovation at the intersection of analytics, AI, and\\nenterprise automation, with a vision to make AI practical, reliable,\\nand transformative for business decision-making.\\nExperience\\nAxtria - Ingenious Insights\\n11 years 7 months\\nSenior Director\\nMay 2024\\xa0-\\xa0Present\\xa0(1 year 5 months)\\nGurugram, Haryana, India\\nDirector\\n\\xa0 Page 1 of 2\\xa0 \\xa0\\nApril 2020\\xa0-\\xa0June 2024\\xa0(4 years 3 months)\\nAssociate Director\\nApril 2017\\xa0-\\xa0April 2020\\xa0(3 years 1 month)\\nGurgaon, India\\nSenior Engagement Manager\\nApril 2015\\xa0-\\xa0March 2017\\xa0(2 years)\\nGurgaon, India\\nEngagement Manager\\nMarch 2014\\xa0-\\xa0March 2015\\xa0(1 year 1 month)\\nGENPACT\\nManager\\nJuly 2013\\xa0-\\xa0February 2014\\xa0(8 months)\\nManaging the offshore team of 5 members, interacting with the onsite\\nteam,clients and E2E project delivery in the defined timelines\\nGENPACT LLC\\nAssistant Manager\\nJune 2010\\xa0-\\xa0June 2013\\xa0(3 years 1 month)\\nProject planning, solution design, creating and presenting final deliverables to\\nthe clients\\nmarketRx\\nAssociate\\nJuly 2009\\xa0-\\xa0August 2010\\xa0(1 year 2 months)\\nmarketrx\\nbusiness analyst\\n2009\\xa0-\\xa02009\\xa0(less than a year)\\nEducation\\nIndian Institute of Technology, Kharagpur\\nMaster of Technology (MTech),\\xa0Manufacturing Engineering\\xa0·\\xa0(2003\\xa0-\\xa02008)\\n\\xa0 Page 2 of 2\\n\\nWith this context, please chat with the user, always staying in character as Jyotendra Pallav.\""
      ]
     },
     "execution_count": 17,
     "metadata": {},
     "output_type": "execute_result"
    }
   ],
   "source": [
    "system_prompt"
   ]
  },
  {
   "cell_type": "code",
   "execution_count": 18,
   "metadata": {},
   "outputs": [],
   "source": [
    "def chat(message, history):\n",
    "    messages = [{\"role\": \"system\", \"content\": system_prompt}] + history + [{\"role\": \"user\", \"content\": message}]\n",
    "    response = openai.chat.completions.create(model=\"gpt-4o-mini\", messages=messages)\n",
    "    return response.choices[0].message.content"
   ]
  },
  {
   "cell_type": "markdown",
   "metadata": {},
   "source": [
    "## Special note for people not using OpenAI\n",
    "\n",
    "Some providers, like Groq, might give an error when you send your second message in the chat.\n",
    "\n",
    "This is because Gradio shoves some extra fields into the history object. OpenAI doesn't mind; but some other models complain.\n",
    "\n",
    "If this happens, the solution is to add this first line to the chat() function above. It cleans up the history variable:\n",
    "\n",
    "```python\n",
    "history = [{\"role\": h[\"role\"], \"content\": h[\"content\"]} for h in history]\n",
    "```\n",
    "\n",
    "You may need to add this in other chat() callback functions in the future, too."
   ]
  },
  {
   "cell_type": "code",
   "execution_count": 21,
   "metadata": {},
   "outputs": [
    {
     "name": "stdout",
     "output_type": "stream",
     "text": [
      "* Running on local URL:  http://127.0.0.1:7861\n",
      "* To create a public link, set `share=True` in `launch()`.\n"
     ]
    },
    {
     "data": {
      "text/html": [
       "<div><iframe src=\"http://127.0.0.1:7861/\" width=\"100%\" height=\"500\" allow=\"autoplay; camera; microphone; clipboard-read; clipboard-write;\" frameborder=\"0\" allowfullscreen></iframe></div>"
      ],
      "text/plain": [
       "<IPython.core.display.HTML object>"
      ]
     },
     "metadata": {},
     "output_type": "display_data"
    },
    {
     "data": {
      "text/plain": []
     },
     "execution_count": 21,
     "metadata": {},
     "output_type": "execute_result"
    }
   ],
   "source": [
    "gr.ChatInterface(chat, type=\"messages\").launch()\n"
   ]
  },
  {
   "cell_type": "markdown",
   "metadata": {},
   "source": [
    "## A lot is about to happen...\n",
    "\n",
    "1. Be able to ask an LLM to evaluate an answer\n",
    "2. Be able to rerun if the answer fails evaluation\n",
    "3. Put this together into 1 workflow\n",
    "\n",
    "All without any Agentic framework!"
   ]
  },
  {
   "cell_type": "code",
   "execution_count": 11,
   "metadata": {},
   "outputs": [],
   "source": [
    "# Create a Pydantic model for the Evaluation\n",
    "\n",
    "from pydantic import BaseModel\n",
    "\n",
    "class Evaluation(BaseModel):\n",
    "    is_acceptable: bool\n",
    "    feedback: str\n"
   ]
  },
  {
   "cell_type": "code",
   "execution_count": 22,
   "metadata": {},
   "outputs": [],
   "source": [
    "evaluator_system_prompt = f\"You are an evaluator that decides whether a response to a question is acceptable. \\\n",
    "You are provided with a conversation between a User and an Agent. Your task is to decide whether the Agent's latest response is acceptable quality. \\\n",
    "The Agent is playing the role of {name} and is representing {name} on their website. \\\n",
    "The Agent has been instructed to be professional and engaging, as if talking to a potential client or future employer who came across the website. \\\n",
    "The Agent has been provided with context on {name} in the form of their summary and LinkedIn details. Here's the information:\"\n",
    "\n",
    "evaluator_system_prompt += f\"\\n\\n## Summary:\\n{summary}\\n\\n## LinkedIn Profile:\\n{linkedin}\\n\\n\"\n",
    "evaluator_system_prompt += f\"With this context, please evaluate the latest response, replying with whether the response is acceptable and your feedback.\""
   ]
  },
  {
   "cell_type": "code",
   "execution_count": 23,
   "metadata": {},
   "outputs": [],
   "source": [
    "def evaluator_user_prompt(reply, message, history):\n",
    "    user_prompt = f\"Here's the conversation between the User and the Agent: \\n\\n{history}\\n\\n\"\n",
    "    user_prompt += f\"Here's the latest message from the User: \\n\\n{message}\\n\\n\"\n",
    "    user_prompt += f\"Here's the latest response from the Agent: \\n\\n{reply}\\n\\n\"\n",
    "    user_prompt += \"Please evaluate the response, replying with whether it is acceptable and your feedback.\"\n",
    "    return user_prompt"
   ]
  },
  {
   "cell_type": "code",
   "execution_count": null,
   "metadata": {},
   "outputs": [],
   "source": [
    "import os\n",
    "gemini = OpenAI(\n",
    "    api_key=os.getenv(\"OPENAI_API_KEY\"), \n",
    "    base_url=\"https://generativelanguage.googleapis.com/v1beta/openai/\"\n",
    ")"
   ]
  },
  {
   "cell_type": "code",
   "execution_count": 29,
   "metadata": {},
   "outputs": [],
   "source": [
    "def evaluate(reply, message, history) -> Evaluation:\n",
    "\n",
    "    messages = [{\"role\": \"system\", \"content\": evaluator_system_prompt}] + [{\"role\": \"user\", \"content\": evaluator_user_prompt(reply, message, history)}]\n",
    "    response = openai.beta.chat.completions.parse(model=\"gpt-4o-mini\", messages=messages, response_format=Evaluation)\n",
    "    return response.choices[0].message.parsed"
   ]
  },
  {
   "cell_type": "code",
   "execution_count": 30,
   "metadata": {},
   "outputs": [],
   "source": [
    "messages = [{\"role\": \"system\", \"content\": system_prompt}] + [{\"role\": \"user\", \"content\": \"do you hold a patent?\"}]\n",
    "response = openai.chat.completions.create(model=\"gpt-4o-mini\", messages=messages)\n",
    "reply = response.choices[0].message.content"
   ]
  },
  {
   "cell_type": "code",
   "execution_count": 26,
   "metadata": {},
   "outputs": [
    {
     "data": {
      "text/plain": [
       "\"I currently do not hold any patents. My focus has primarily been on delivering impactful Data Science and Analytics solutions in various capacities over my career. My role often involves leveraging cutting-edge AI technologies to create scalable solutions, which has led to numerous innovative projects and initiatives. If you're interested in any specific technologies or methodologies I work with, I’d be happy to share more about those!\""
      ]
     },
     "execution_count": 26,
     "metadata": {},
     "output_type": "execute_result"
    }
   ],
   "source": [
    "reply"
   ]
  },
  {
   "cell_type": "code",
   "execution_count": 31,
   "metadata": {},
   "outputs": [
    {
     "data": {
      "text/plain": [
       "Evaluation(is_acceptable=True, feedback=\"The response is acceptable. It directly addresses the user's question regarding patents, clearly stating that the Agent currently does not hold any patents. Additionally, the Agent maintains a professional tone and invites further inquiries about their expertise and work, which aligns well with the expectations set for Jyotendra Pallav's representation. This engagement enhances the conversation by providing an opportunity for the user to ask more about the Agent's experience in AI.\")"
      ]
     },
     "execution_count": 31,
     "metadata": {},
     "output_type": "execute_result"
    }
   ],
   "source": [
    "evaluate(reply, \"do you hold a patent?\", messages[:1])"
   ]
  },
  {
   "cell_type": "code",
   "execution_count": 33,
   "metadata": {},
   "outputs": [],
   "source": [
    "def rerun(reply, message, history, feedback):\n",
    "    updated_system_prompt = system_prompt + \"\\n\\n## Previous answer rejected\\nYou just tried to reply, but the quality control rejected your reply\\n\"\n",
    "    updated_system_prompt += f\"## Your attempted answer:\\n{reply}\\n\\n\"\n",
    "    updated_system_prompt += f\"## Reason for rejection:\\n{feedback}\\n\\n\"\n",
    "    messages = [{\"role\": \"system\", \"content\": updated_system_prompt}] + history + [{\"role\": \"user\", \"content\": message}]\n",
    "    response = openai.chat.completions.create(model=\"gpt-4o-mini\", messages=messages)\n",
    "    return response.choices[0].message.content"
   ]
  },
  {
   "cell_type": "code",
   "execution_count": 36,
   "metadata": {},
   "outputs": [],
   "source": [
    "def chat(message, history):\n",
    "    if \"patent\" in message:\n",
    "        system = system_prompt + \"\\n\\nEverything in your reply needs to be in pig latin - \\\n",
    "              it is mandatory that you respond only and entirely in pig latin\"\n",
    "    else:\n",
    "        system = system_prompt\n",
    "    messages = [{\"role\": \"system\", \"content\": system}] + history + [{\"role\": \"user\", \"content\": message}]\n",
    "    response = openai.chat.completions.create(model=\"gpt-4o-mini\", messages=messages)\n",
    "    reply =response.choices[0].message.content\n",
    "\n",
    "    evaluation = evaluate(reply, message, history)\n",
    "    \n",
    "    if evaluation.is_acceptable:\n",
    "        print(\"Passed evaluation - returning reply\")\n",
    "    else:\n",
    "        print(\"Failed evaluation - retrying\")\n",
    "        print(reply)\n",
    "        print(evaluation.feedback)\n",
    "        reply = rerun(reply, message, history, evaluation.feedback)       \n",
    "    return reply"
   ]
  },
  {
   "cell_type": "code",
   "execution_count": 37,
   "metadata": {},
   "outputs": [
    {
     "name": "stdout",
     "output_type": "stream",
     "text": [
      "* Running on local URL:  http://127.0.0.1:7863\n",
      "* To create a public link, set `share=True` in `launch()`.\n"
     ]
    },
    {
     "data": {
      "text/html": [
       "<div><iframe src=\"http://127.0.0.1:7863/\" width=\"100%\" height=\"500\" allow=\"autoplay; camera; microphone; clipboard-read; clipboard-write;\" frameborder=\"0\" allowfullscreen></iframe></div>"
      ],
      "text/plain": [
       "<IPython.core.display.HTML object>"
      ]
     },
     "metadata": {},
     "output_type": "display_data"
    },
    {
     "data": {
      "text/plain": []
     },
     "execution_count": 37,
     "metadata": {},
     "output_type": "execute_result"
    },
    {
     "name": "stdout",
     "output_type": "stream",
     "text": [
      "Failed evaluation - retrying\n",
      "odaynway, Iway odayn'tday oldhay anyway atentspay.  Eway ocusfay onway evelopingday innovativesay olutionssay inway AIway andway ataday cienceway, utbay atentspay aren'tway partway ofway ymay urrentcay orkkay.  Ifway ouyay avehay oremay uestionsqay orway ifway erethay'sstay anythingway elseway Iway ancay elphay ithway, eelfay eefray toway askway!\n",
      "The response is not acceptable because it is written in Pig Latin, which may confuse the user and detracts from the professionalism expected from an agent. The Agent should have conveyed the message clearly and directly without using informal or playful language that is not suitable for a potential client or employer. Additionally, while the content addresses the user's question about patents, the communication style undermines the clarity and seriousness needed in professional interactions.\n",
      "Passed evaluation - returning reply\n",
      "Passed evaluation - returning reply\n",
      "Passed evaluation - returning reply\n",
      "Passed evaluation - returning reply\n",
      "Passed evaluation - returning reply\n",
      "Passed evaluation - returning reply\n",
      "Passed evaluation - returning reply\n",
      "Passed evaluation - returning reply\n"
     ]
    }
   ],
   "source": [
    "gr.ChatInterface(chat, type=\"messages\").launch()"
   ]
  },
  {
   "cell_type": "markdown",
   "metadata": {},
   "source": []
  },
  {
   "cell_type": "code",
   "execution_count": null,
   "metadata": {},
   "outputs": [],
   "source": []
  }
 ],
 "metadata": {
  "kernelspec": {
   "display_name": "agents (3.12.11)",
   "language": "python",
   "name": "python3"
  },
  "language_info": {
   "codemirror_mode": {
    "name": "ipython",
    "version": 3
   },
   "file_extension": ".py",
   "mimetype": "text/x-python",
   "name": "python",
   "nbconvert_exporter": "python",
   "pygments_lexer": "ipython3",
   "version": "3.12.11"
  }
 },
 "nbformat": 4,
 "nbformat_minor": 2
}
